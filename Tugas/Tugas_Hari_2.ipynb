{
  "nbformat": 4,
  "nbformat_minor": 0,
  "metadata": {
    "kernelspec": {
      "display_name": "Python 3",
      "language": "python",
      "name": "python3"
    },
    "language_info": {
      "codemirror_mode": {
        "name": "ipython",
        "version": 3
      },
      "file_extension": ".py",
      "mimetype": "text/x-python",
      "name": "python",
      "nbconvert_exporter": "python",
      "pygments_lexer": "ipython3",
      "version": "3.7.7"
    },
    "colab": {
      "name": "Tugas Hari_2_rarizmalia@gmail.com.ipynb",
      "provenance": [],
      "collapsed_sections": [],
      "include_colab_link": true
    }
  },
  "cells": [
    {
      "cell_type": "markdown",
      "metadata": {
        "id": "view-in-github",
        "colab_type": "text"
      },
      "source": [
        "<a href=\"https://colab.research.google.com/github/despygurl/sanbercode_python/blob/main/Tugas_Hari_2.ipynb\" target=\"_parent\"><img src=\"https://colab.research.google.com/assets/colab-badge.svg\" alt=\"Open In Colab\"/></a>"
      ]
    },
    {
      "cell_type": "markdown",
      "metadata": {
        "id": "I6jmLA-RYrt5"
      },
      "source": [
        "<h2>Soal 1: Helper Function</h2>\n",
        "\n",
        "Jawab Pertanyaan di bawah ini:\n",
        "\n",
        "Misalkan kamu ingin mengetahui tentang kegunaan fungsi 'len' di Python, maka fungsi apa yang bisa kamu gunakan untuk menolong kamu?"
      ]
    },
    {
      "cell_type": "code",
      "metadata": {
        "id": "VrvyQxGJYrt9",
        "colab": {
          "base_uri": "https://localhost:8080/"
        },
        "outputId": "163bc5aa-4086-43c5-b126-e680c296fb1d"
      },
      "source": [
        "# lengkapi code ini\n",
        "help(len)"
      ],
      "execution_count": null,
      "outputs": [
        {
          "output_type": "stream",
          "text": [
            "Help on built-in function len in module builtins:\n",
            "\n",
            "len(obj, /)\n",
            "    Return the number of items in a container.\n",
            "\n"
          ],
          "name": "stdout"
        }
      ]
    },
    {
      "cell_type": "markdown",
      "metadata": {
        "id": "KrcuFTuAYruT"
      },
      "source": [
        "<h2>Soal 2: Built-in Function</h2>\n",
        "\n",
        "Jawab Pertanyaan di bawah ini:\n",
        "    \n",
        "Apa itu built-in Function?\n",
        "\n",
        "Sebutkan 3 built-in Function di pyhon!\n",
        "\n",
        "Berikan contoh masing2 1 cara penggunaan built-in function yang kamu sebutkan sebelumnya"
      ]
    },
    {
      "cell_type": "markdown",
      "metadata": {
        "id": "xro-58_CYruW"
      },
      "source": [
        "# **Jawaban Text**\n",
        "\n",
        "Built-in Function merupakan fungsi dasar yang sudah tersedia pada python\n",
        "1. len()\n",
        "2. list()\n",
        "3. round()\n"
      ]
    },
    {
      "cell_type": "code",
      "metadata": {
        "id": "Xv7lHkgfYruY",
        "colab": {
          "base_uri": "https://localhost:8080/"
        },
        "outputId": "eed85f9e-ab2a-4b4d-ab60-6b9a7cf5aa4a"
      },
      "source": [
        "# Contoh penggunaan built in function\r\n",
        "\r\n",
        "# 1. Function len() digunakan untuk menghitung panjang object yang diterima.\r\n",
        "# Diberikan variabel negara, lalu dicetak hasil penghitungan dari jumlah/panjang karakter dari value/nilai yang ada pada variabel negara\r\n",
        "negara = \"Indonesia\"\r\n",
        "panjang_negara = len(negara)\r\n",
        "print(\"1. Penggunaan function len() \\n Panjang karakter dari kata '\"+ negara +\"' adalah: \"+ str(panjang_negara)+ \"\\n\")\r\n",
        "\r\n",
        "# 2. Function list() digunakan untuk mengonversi nilai object lain menjadi object list\r\n",
        "# Variabel negara yang sebelumnya merupakan variabel berbentuk string akan diubah/dikonversi menjadi bentuk list\r\n",
        "negara_list = list(negara)\r\n",
        "print(\"2. Penggunaan function list() \\n \" + negara +\" jika dikonversi menjadi list dengan bantuan function list() menjadi: \"+ str(negara_list)+ \"\\n\")\r\n",
        "\r\n",
        "# 3. Function round() digunakan untuk melakukan pembulatan angka desimal/float\r\n",
        "# Diberikan variabel angka_desimal yang berisi 8 angka di belakang koma. Angka tersebut akan dibulatkan hingga hanya 2 angka di belakang koma\r\n",
        "angka_desimal = 8.58964732\r\n",
        "pembulatan = round(angka_desimal, 2)\r\n",
        "print(\"3. Penggunaan function round() \\n \" +str(angka_desimal) + \" jika dibulatkan menjadi hanya 2 angka di belakang koma menjadi: \"+ str(pembulatan) + \"\\n\")"
      ],
      "execution_count": null,
      "outputs": [
        {
          "output_type": "stream",
          "text": [
            "1. Penggunaan function len() \n",
            " Panjang karakter dari kata 'Indonesia' adalah: 9\n",
            "\n",
            "2. Penggunaan function list() \n",
            " Indonesia jika dikonversi menjadi list dengan bantuan function list() menjadi: ['I', 'n', 'd', 'o', 'n', 'e', 's', 'i', 'a']\n",
            "\n",
            "3. Penggunaan function round() \n",
            " 8.58964732 jika dibulatkan menjadi hanya 2 angka di belakang koma menjadi: 8.59\n",
            "\n"
          ],
          "name": "stdout"
        }
      ]
    },
    {
      "cell_type": "markdown",
      "metadata": {
        "id": "yhWXiPNDYrul"
      },
      "source": [
        "<h2>Soal 3: Method dan Function</h2>\n",
        "\n",
        "Jawab Pertanyaan di bawah ini:\n",
        "    \n",
        "- Apa perbedaan method dan function?"
      ]
    },
    {
      "cell_type": "markdown",
      "metadata": {
        "id": "rqpTJlgDYrun"
      },
      "source": [
        "# **Jawaban Pertanyaan:**\r\n",
        "\r\n",
        "Function adalah suatu statement yang dapat digunakan berulang-ulang.\r\n",
        "\r\n",
        "Sementara Method adalah suatu fungsi yang terdapat pada suatu object.\r\n",
        "\r\n",
        "Perbedaan dari keduanya, kalau function dapat berdiri sendiri, namun tidak demikian dengan method. Method harus berasosiasi dengan suatu object. \r\n",
        "\r\n",
        "Method pada satu object akan berbeda dan bahkan tidak dapat digunakan pada object yang berbeda.\r\n",
        "\r\n",
        "Sebagai contoh:\r\n",
        "\r\n",
        "Function ***print()*** dapat digunakan sendiri tanpa harus berasosiasi dan dependent dengan object manapun.\r\n",
        "\r\n",
        "Sementara method ***remove()*** hanya dapat digunakan pada object list namun tidak akan bisa digunakan pada object string dan juga tidak berdiri sendiri layaknya fungsi ***print()***, harus berasosiasi/berhubungan dengan object list."
      ]
    },
    {
      "cell_type": "markdown",
      "metadata": {
        "id": "tUU1xgYBYrup"
      },
      "source": [
        "<h2>Soal 4: Menggunkan Method String</h2>\n",
        "\n",
        "Lengkapi kode untuk menghasilkan suatu output yang di harapkan"
      ]
    },
    {
      "cell_type": "code",
      "metadata": {
        "id": "037gauOGYrur",
        "colab": {
          "base_uri": "https://localhost:8080/"
        },
        "outputId": "42a08b2a-4a49-4dd3-8dbe-9b4d66eaf447"
      },
      "source": [
        "kalimat = \"Corona cepat selesai\"\n",
        "\n",
        "# gunakan method untuk mengubah nilai kalimat menjadi uppercase semua kemudian tampilkan hasilnya\n",
        "print(kalimat.upper())\n",
        "\n",
        "# gunakan method untuk menghitung berapa huruf e di dalam kalimat\n",
        "print(kalimat.count('e'))"
      ],
      "execution_count": null,
      "outputs": [
        {
          "output_type": "stream",
          "text": [
            "CORONA CEPAT SELESAI\n",
            "3\n"
          ],
          "name": "stdout"
        }
      ]
    },
    {
      "cell_type": "markdown",
      "metadata": {
        "id": "fPTd4R5VYru5"
      },
      "source": [
        "Expected Output:\n",
        "\n",
        "CORONA CEPAT SELESAI\n",
        "\n",
        "3"
      ]
    },
    {
      "cell_type": "markdown",
      "metadata": {
        "id": "IPjp5vwDYrvL"
      },
      "source": [
        "<h2>Soal 5: Membuat Simple Function</h2>\n",
        "\n",
        "Buatlah suatu fungsi yang menerima satu input argumen berbentuk list dan mempunyai elemen bertipe numeric semua, dimana fungsi tersebut berguna untuk menghitung rata2 dari kumpulan elemen list tersebut. namai fungsi tersebut 'mean_list'"
      ]
    },
    {
      "cell_type": "code",
      "metadata": {
        "id": "smoKI9zIYrvO",
        "colab": {
          "base_uri": "https://localhost:8080/"
        },
        "outputId": "7c9be526-9432-4558-e2c2-e0a0e462653a"
      },
      "source": [
        "obj_list = [11.25, 18.0, 20.0, 10.75, 9.50]\n",
        "def mean_list(inp_list):\n",
        "    summary = sum(obj_list)\n",
        "    length = len(obj_list)\n",
        "    average = round((summary / length), 1)\n",
        "    return average\n",
        "    \n",
        "print(mean_list(obj_list))"
      ],
      "execution_count": null,
      "outputs": [
        {
          "output_type": "stream",
          "text": [
            "13.9\n"
          ],
          "name": "stdout"
        }
      ]
    },
    {
      "cell_type": "markdown",
      "metadata": {
        "id": "MVAvoHHgYrva"
      },
      "source": [
        "Expected Output:\n",
        "\n",
        "13.9"
      ]
    },
    {
      "cell_type": "markdown",
      "metadata": {
        "id": "A8jjpNC8Yrvc"
      },
      "source": [
        "<h2>Soal 6: Membuat Function dengan Multiple arguments</h2>\n",
        "\n",
        "Buatlah suatu fungsi untuk melakukan penggabungan antara dua list"
      ]
    },
    {
      "cell_type": "code",
      "metadata": {
        "id": "r42z4mafYrve",
        "colab": {
          "base_uri": "https://localhost:8080/"
        },
        "outputId": "3852bee5-b873-448a-f522-77bb6dee2e7c"
      },
      "source": [
        "obj_list = [2, 4, 5, 6]\n",
        "obj_penambah = [1, 2, 3]\n",
        "\n",
        "def kali_list(list_1, list_2):\n",
        "    gabungan = obj_list + obj_penambah   \n",
        "    return gabungan\n",
        "    \n",
        "    \n",
        "print(kali_list(obj_list, obj_penambah))"
      ],
      "execution_count": null,
      "outputs": [
        {
          "output_type": "stream",
          "text": [
            "[2, 4, 5, 6, 1, 2, 3]\n"
          ],
          "name": "stdout"
        }
      ]
    },
    {
      "cell_type": "markdown",
      "metadata": {
        "id": "RYhU921kYrvp"
      },
      "source": [
        "Expected Output:\n",
        "\n",
        "[2, 4, 5, 6, 1, 2, 3]"
      ]
    }
  ]
}