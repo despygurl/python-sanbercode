{
  "nbformat": 4,
  "nbformat_minor": 0,
  "metadata": {
    "kernelspec": {
      "display_name": "Python 3",
      "language": "python",
      "name": "python3"
    },
    "language_info": {
      "codemirror_mode": {
        "name": "ipython",
        "version": 3
      },
      "file_extension": ".py",
      "mimetype": "text/x-python",
      "name": "python",
      "nbconvert_exporter": "python",
      "pygments_lexer": "ipython3",
      "version": "3.7.7"
    },
    "colab": {
      "name": "Tugas Hari 7_rarizmalia@gmail.com.ipynb",
      "provenance": [],
      "collapsed_sections": [],
      "include_colab_link": true
    }
  },
  "cells": [
    {
      "cell_type": "markdown",
      "metadata": {
        "id": "view-in-github",
        "colab_type": "text"
      },
      "source": [
        "<a href=\"https://colab.research.google.com/github/despygurl/sanbercode_python/blob/main/Tugas_Hari_7.ipynb\" target=\"_parent\"><img src=\"https://colab.research.google.com/assets/colab-badge.svg\" alt=\"Open In Colab\"/></a>"
      ]
    },
    {
      "cell_type": "code",
      "metadata": {
        "id": "GyakVoXhBGrv",
        "colab": {
          "base_uri": "https://localhost:8080/",
          "height": 204
        },
        "outputId": "0a406751-f434-45db-ee0c-c1bf978891db"
      },
      "source": [
        "# Persiapan membuat data\n",
        "import pandas as pd\n",
        "import random\n",
        " \n",
        "pelajaran = ['Matematika', 'Fisika', 'Biologi', 'Kimia', 'Geologi', 'Ekonomi']\n",
        "kelas = ['12A', '12B', '12C', '12D']\n",
        " \n",
        "hasil_nilai = {\n",
        "    'siswa_id' : range(1, 21),\n",
        "    'pelajaran' : [random.choice(pelajaran) for i in range(20)],\n",
        "    'nilai' : [random.choice(range(0, 100)) for i in range(20)],\n",
        "    'jenis_kelamin' : [random.choice(['laki-laki', 'perempuan']) for i in range(20)],\n",
        "    'kelas' : [random.choice(kelas) for i in range(20)]\n",
        "}\n",
        " \n",
        "df = pd.DataFrame(hasil_nilai)\n",
        "df.head()"
      ],
      "execution_count": null,
      "outputs": [
        {
          "output_type": "execute_result",
          "data": {
            "text/html": [
              "<div>\n",
              "<style scoped>\n",
              "    .dataframe tbody tr th:only-of-type {\n",
              "        vertical-align: middle;\n",
              "    }\n",
              "\n",
              "    .dataframe tbody tr th {\n",
              "        vertical-align: top;\n",
              "    }\n",
              "\n",
              "    .dataframe thead th {\n",
              "        text-align: right;\n",
              "    }\n",
              "</style>\n",
              "<table border=\"1\" class=\"dataframe\">\n",
              "  <thead>\n",
              "    <tr style=\"text-align: right;\">\n",
              "      <th></th>\n",
              "      <th>siswa_id</th>\n",
              "      <th>pelajaran</th>\n",
              "      <th>nilai</th>\n",
              "      <th>jenis_kelamin</th>\n",
              "      <th>kelas</th>\n",
              "    </tr>\n",
              "  </thead>\n",
              "  <tbody>\n",
              "    <tr>\n",
              "      <th>0</th>\n",
              "      <td>1</td>\n",
              "      <td>Matematika</td>\n",
              "      <td>3</td>\n",
              "      <td>perempuan</td>\n",
              "      <td>12B</td>\n",
              "    </tr>\n",
              "    <tr>\n",
              "      <th>1</th>\n",
              "      <td>2</td>\n",
              "      <td>Fisika</td>\n",
              "      <td>52</td>\n",
              "      <td>laki-laki</td>\n",
              "      <td>12B</td>\n",
              "    </tr>\n",
              "    <tr>\n",
              "      <th>2</th>\n",
              "      <td>3</td>\n",
              "      <td>Biologi</td>\n",
              "      <td>59</td>\n",
              "      <td>laki-laki</td>\n",
              "      <td>12B</td>\n",
              "    </tr>\n",
              "    <tr>\n",
              "      <th>3</th>\n",
              "      <td>4</td>\n",
              "      <td>Fisika</td>\n",
              "      <td>41</td>\n",
              "      <td>perempuan</td>\n",
              "      <td>12C</td>\n",
              "    </tr>\n",
              "    <tr>\n",
              "      <th>4</th>\n",
              "      <td>5</td>\n",
              "      <td>Biologi</td>\n",
              "      <td>10</td>\n",
              "      <td>perempuan</td>\n",
              "      <td>12D</td>\n",
              "    </tr>\n",
              "  </tbody>\n",
              "</table>\n",
              "</div>"
            ],
            "text/plain": [
              "   siswa_id   pelajaran  nilai jenis_kelamin kelas\n",
              "0         1  Matematika      3     perempuan   12B\n",
              "1         2      Fisika     52     laki-laki   12B\n",
              "2         3     Biologi     59     laki-laki   12B\n",
              "3         4      Fisika     41     perempuan   12C\n",
              "4         5     Biologi     10     perempuan   12D"
            ]
          },
          "metadata": {
            "tags": []
          },
          "execution_count": 51
        }
      ]
    },
    {
      "cell_type": "markdown",
      "metadata": {
        "id": "aNoScqypBGr5"
      },
      "source": [
        "<h2>Soal 1: Indexing</h2>\n",
        "\n",
        "1. Lakukan indexing terhadap dataframe untuk mengakses column nilai dan kelas saja\n",
        "2. Lakukan indexing terhadap dataframe untuk mengakses row 5 sampai 10 beserta column pelajaran dan nilai"
      ]
    },
    {
      "cell_type": "code",
      "metadata": {
        "id": "rKmgvnS2BGr6",
        "colab": {
          "base_uri": "https://localhost:8080/"
        },
        "outputId": "016c18ad-b8da-44d4-c491-aa40ca4c3bf7"
      },
      "source": [
        "# indexing terhadap dataframe untuk mengakses column nilai dan kelas saja\n",
        "print(\"Indexing terhadap dataframe untuk mengakses column nilai dan kelas saja\")\n",
        "print(df.iloc[:,[2,4]])\n",
        "\n",
        "# indexing terhadap dataframe untuk mengakses row 5 sampai 10 beserta column pelajaran dan nilai\n",
        "print(\"\\nIndexing terhadap dataframe untuk mengakses row 5 sampai 10 beserta column pelajaran dan nilai\")\n",
        "print(df.iloc[5:(10+1),[1,3]])"
      ],
      "execution_count": null,
      "outputs": [
        {
          "output_type": "stream",
          "text": [
            "Indexing terhadap dataframe untuk mengakses column nilai dan kelas saja\n",
            "    nilai kelas\n",
            "0       3   12B\n",
            "1      52   12B\n",
            "2      59   12B\n",
            "3      41   12C\n",
            "4      10   12D\n",
            "5      15   12B\n",
            "6      24   12A\n",
            "7       4   12D\n",
            "8      25   12D\n",
            "9      16   12A\n",
            "10     89   12C\n",
            "11     84   12B\n",
            "12     94   12C\n",
            "13     60   12D\n",
            "14      5   12C\n",
            "15     94   12A\n",
            "16     45   12C\n",
            "17     20   12B\n",
            "18     39   12D\n",
            "19     46   12D\n",
            "\n",
            "Indexing terhadap dataframe untuk mengakses row 5 sampai 10 beserta column pelajaran dan nilai\n",
            "   pelajaran jenis_kelamin\n",
            "5    Geologi     perempuan\n",
            "6    Ekonomi     laki-laki\n",
            "7     Fisika     perempuan\n",
            "8      Kimia     laki-laki\n",
            "9     Fisika     perempuan\n",
            "10   Biologi     laki-laki\n"
          ],
          "name": "stdout"
        }
      ]
    },
    {
      "cell_type": "markdown",
      "metadata": {
        "id": "F55zUl5GBGr_"
      },
      "source": [
        "<h2>Soal 2: Filter DataFrame Dengan Boolean</h2>\n",
        "\n",
        "1. Tampilkan semua data siswa pada mata pelajaran Ekonomi dan Fisika\n",
        "2. Tampilkan semua data siswa yang mempunyai nilai lebih dari 50 di mata pelajaran Kimia \n",
        "3. Tampilkan semua data yang mempunyai nilai lebih dari 70, berjnis kelamin perempuan dan di kelas 12C"
      ]
    },
    {
      "cell_type": "code",
      "metadata": {
        "id": "eB5oSf_KBGsA",
        "colab": {
          "base_uri": "https://localhost:8080/"
        },
        "outputId": "3c08de4d-745f-4c99-ab0e-4f49e0dd2b56"
      },
      "source": [
        "# Semua data siswa pada mata pelajaran Ekonomi dan Fisika\n",
        "print(\"Semua data siswa pada mata pelajaran Ekonomi dan Fisika\")\n",
        "newdf = df.loc[(df.pelajaran == 'Ekonomi') | (df.pelajaran =='Fisika')]\n",
        "print(newdf)\n",
        "\n",
        "# Semua data siswa yang mempunyai nilai lebih dari 50 di mata pelajaran Kimia\n",
        "print(\"\\nSemua data siswa yang mempunyai nilai lebih dari 50 di mata pelajaran Kimia\")\n",
        "df_nilai = df.loc[(df.nilai > 50) & (df.pelajaran == 'Kimia')]\n",
        "print(df_nilai)\n",
        "\n",
        "# Semua data yang mempunyai nilai lebih dari 70, berjenis kelamin perempuan dan di kelas 12C\n",
        "print(\"\\nSemua data yang mempunyai nilai lebih dari 70, berjenis kelamin perempuan dan di kelas 12C\")\n",
        "df_prp = df.loc[(df.nilai > 70) & (df.jenis_kelamin == 'perempuan') & (df.kelas == '12C')]\n",
        "print(df_prp)"
      ],
      "execution_count": null,
      "outputs": [
        {
          "output_type": "stream",
          "text": [
            "Semua data siswa pada mata pelajaran Ekonomi dan Fisika\n",
            "    siswa_id pelajaran  nilai jenis_kelamin kelas\n",
            "1          2    Fisika     52     laki-laki   12B\n",
            "3          4    Fisika     41     perempuan   12C\n",
            "6          7   Ekonomi     24     laki-laki   12A\n",
            "7          8    Fisika      4     perempuan   12D\n",
            "9         10    Fisika     16     perempuan   12A\n",
            "19        20    Fisika     46     perempuan   12D\n",
            "\n",
            "Semua data siswa yang mempunyai nilai lebih dari 50 di mata pelajaran Kimia\n",
            "    siswa_id pelajaran  nilai jenis_kelamin kelas\n",
            "15        16     Kimia     94     perempuan   12A\n",
            "\n",
            "Semua data yang mempunyai nilai lebih dari 70, berjenis kelamin perempuan dan di kelas 12C\n",
            "    siswa_id pelajaran  nilai jenis_kelamin kelas\n",
            "12        13   Biologi     94     perempuan   12C\n"
          ],
          "name": "stdout"
        }
      ]
    },
    {
      "cell_type": "markdown",
      "metadata": {
        "id": "6Od6R3H1BGsE"
      },
      "source": [
        "<h2>Soal 3: Data Transformation</h2>\n",
        "\n",
        "lakukan data transformasi terhadap column 'nilai' dengan fungsi transformasi, berikut rumus dari normalisasi\n",
        "\n",
        "![alt text](https://drive.google.com/uc?id=1wed-EbRSTA0JP1ceDp6lcKBqH2yJ4aa3)"
      ]
    },
    {
      "cell_type": "code",
      "metadata": {
        "id": "qeV_iH8nBGsF",
        "colab": {
          "base_uri": "https://localhost:8080/"
        },
        "outputId": "74c389ff-53b1-4778-8940-7b66ebe06c4a"
      },
      "source": [
        "# code here\n",
        "nilai_min = df.nilai.min()\n",
        "nilai_max = df.nilai.max()\n",
        "max_min = nilai_max - nilai_min\n",
        "\n",
        "def normalisasi(nil):\n",
        "    nilai_min = df.nilai.min()\n",
        "    nilai_max = df.nilai.max()\n",
        "    max_min = nilai_max - nilai_min\n",
        "    return round((nil - nilai_min)/max_min,2)\n",
        "\n",
        "print(df[['nilai']].apply(normalisasi))"
      ],
      "execution_count": null,
      "outputs": [
        {
          "output_type": "stream",
          "text": [
            "    nilai\n",
            "0    0.00\n",
            "1    0.54\n",
            "2    0.62\n",
            "3    0.42\n",
            "4    0.08\n",
            "5    0.13\n",
            "6    0.23\n",
            "7    0.01\n",
            "8    0.24\n",
            "9    0.14\n",
            "10   0.95\n",
            "11   0.89\n",
            "12   1.00\n",
            "13   0.63\n",
            "14   0.02\n",
            "15   1.00\n",
            "16   0.46\n",
            "17   0.19\n",
            "18   0.40\n",
            "19   0.47\n"
          ],
          "name": "stdout"
        }
      ]
    }
  ]
}