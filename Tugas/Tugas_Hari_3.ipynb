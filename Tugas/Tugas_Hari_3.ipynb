{
  "nbformat": 4,
  "nbformat_minor": 0,
  "metadata": {
    "kernelspec": {
      "display_name": "Python 3",
      "language": "python",
      "name": "python3"
    },
    "language_info": {
      "codemirror_mode": {
        "name": "ipython",
        "version": 3
      },
      "file_extension": ".py",
      "mimetype": "text/x-python",
      "name": "python",
      "nbconvert_exporter": "python",
      "pygments_lexer": "ipython3",
      "version": "3.7.7"
    },
    "colab": {
      "name": "Tugas Hari_3_rarizmalia@gmail.com.ipynb",
      "provenance": [],
      "collapsed_sections": [],
      "include_colab_link": true
    }
  },
  "cells": [
    {
      "cell_type": "markdown",
      "metadata": {
        "id": "view-in-github",
        "colab_type": "text"
      },
      "source": [
        "<a href=\"https://colab.research.google.com/github/despygurl/sanbercode_python/blob/main/Tugas_Hari_3.ipynb\" target=\"_parent\"><img src=\"https://colab.research.google.com/assets/colab-badge.svg\" alt=\"Open In Colab\"/></a>"
      ]
    },
    {
      "cell_type": "markdown",
      "metadata": {
        "id": "a9HYUdCUsrKl"
      },
      "source": [
        "<h2>Soal 1: Comparison Operator</h2>\n",
        "\n",
        "- Berikan contoh comparison dari tipe data string\n",
        "- Berikan contoh comparison dari tipe data boolean\n",
        "- Berikan contoh comparison dari tipe data integer"
      ]
    },
    {
      "cell_type": "code",
      "metadata": {
        "id": "lXMCHZ71srKp",
        "colab": {
          "base_uri": "https://localhost:8080/"
        },
        "outputId": "8a1e940c-7ab0-451f-d1c3-5dc0397e0e79"
      },
      "source": [
        "data_string = \"Satu\"\r\n",
        "data_boolean = 3.14\r\n",
        "data_int = 260\r\n",
        "\r\n",
        "# Contoh komparasi string\r\n",
        "print(\"Contoh komparasi string\")\r\n",
        "if data_string == \"satu\":\r\n",
        "    print(True)\r\n",
        "else:\r\n",
        "    print(False)\r\n",
        "\r\n",
        "\r\n",
        "# Contoh komparasi boolean\r\n",
        "print(\"\\nContoh komparasi boolean\")\r\n",
        "if data_boolean == 3.14:\r\n",
        "    print(\"Ini adalah nilai pi\")\r\n",
        "else:\r\n",
        "    print(\"Ini bukan nilai pi\")\r\n",
        "\r\n",
        "\r\n",
        "# Contoh komparasi integer\r\n",
        "print(\"\\nContoh komparasi integer\")\r\n",
        "if data_int % 2 == 0:\r\n",
        "    print(\"Ini adalah Bilangan Genap\")\r\n",
        "else:\r\n",
        "    print(\"Ini adalah Bilangan Ganjil\")"
      ],
      "execution_count": null,
      "outputs": [
        {
          "output_type": "stream",
          "text": [
            "Contoh komparasi string\n",
            "False\n",
            "\n",
            "Contoh komparasi boolean\n",
            "Ini adalah nilai pi\n",
            "\n",
            "Contoh komparasi integer\n",
            "Ini adalah Bilangan Genap\n"
          ],
          "name": "stdout"
        }
      ]
    },
    {
      "cell_type": "markdown",
      "metadata": {
        "id": "IbNoZvVssrK5"
      },
      "source": [
        "<h2>Soal 2: Boolean Comparison</h2>\n",
        "\n",
        "- Berikan contoh gabungan multiple comparison menggunkan Boolean Comparisin 'and'\n",
        "- Berikan contoh gabungan multiple comparison menggunkan Boolean Comparisin 'or'\n",
        "- Berikan contoh gabungan multiple comparison menggunkan Boolean Comparisin 'not'"
      ]
    },
    {
      "cell_type": "code",
      "metadata": {
        "id": "7eU1vPLCsrK7",
        "colab": {
          "base_uri": "https://localhost:8080/"
        },
        "outputId": "284b6767-e7e8-41c2-d30e-e6fa16b81a9d"
      },
      "source": [
        "# Contoh Comparison AND\r\n",
        "print(\"Contoh Comparison AND\")\r\n",
        "nilai_uas = 78\r\n",
        "\r\n",
        "if nilai_uas > 85:\r\n",
        "    print(\"Nilai Anda adalah: A\")\r\n",
        "elif nilai_uas > 75 and nilai_uas <= 85:\r\n",
        "    print(\"Nilai Anda adalah: B\")\r\n",
        "elif nilai_uas > 65 and nilai_uas <=75:\r\n",
        "    print(\"Nilai Anda adalah: C\")\r\n",
        "elif nilai_uas > 45 and nilai_uas <= 65:\r\n",
        "    print(\"Nilai Anda adalah: D\")\r\n",
        "else:\r\n",
        "    print(\"Nilai Anda adalah: E\")\r\n",
        "\r\n",
        "\r\n",
        "# Contoh Comparison OR\r\n",
        "print(\"\\nContoh Comparison OR\")\r\n",
        "ganti_pin = \"NO\"\r\n",
        "\r\n",
        "if ganti_pin == \"No\" or ganti_pin == \"no\" or ganti_pin == \"NO\":\r\n",
        "    print(\"Anda ingin menunda penggantian PIN\")\r\n",
        "elif ganti_pin == \"Yes\" or ganti_pin == \"yes\" or ganti_pin == \"YES\":\r\n",
        "    print(\"Anda telah menyetujui penggantian PIN\")\r\n",
        "else:\r\n",
        "    print(\"Anda belum melakukan proses input. Mohon isikan jawaban anda.\")\r\n",
        "\r\n",
        "# Contoh Comparison NOT\r\n",
        "print(\"\\nContoh Comparison NOT\")\r\n",
        "kelas_a = ['mawar', 'rosa', 'melati', 'jasmine']\r\n",
        "\r\n",
        "if 'mawar' not in kelas_a:\r\n",
        "    print(\"Mawar belum masuk kelas\")\r\n",
        "else:\r\n",
        "    print(\"Semua siswa sudah masuk kelas\")"
      ],
      "execution_count": null,
      "outputs": [
        {
          "output_type": "stream",
          "text": [
            "Contoh Comparison AND\n",
            "Nilai Anda adalah: B\n",
            "\n",
            "Contoh Comparison OR\n",
            "Anda ingin menunda penggantian PIN\n",
            "\n",
            "Contoh Comparison NOT\n",
            "Semua siswa sudah masuk kelas\n"
          ],
          "name": "stdout"
        }
      ]
    },
    {
      "cell_type": "markdown",
      "metadata": {
        "id": "Yp_g_sPMsrLH"
      },
      "source": [
        "<h2>Soal 3: If-Else Statement</h2>\n",
        "\n",
        "Lengkapi kode untuk menghasilkan suatu output yang di harapkan\n",
        "\n",
        "- Bualah sebuah if-else statement yang dimana akan mem-print 'Besar' jika ruangan adalah 'Kamar' dan ukuran lebih dari 12, kemudian mem-print 'Sedang' jika ruangan adalah 'Kamar' dan ukuran lebih dari 6 dan memprint 'Kecil' jika ruangan adalah 'Kamar' dan ukuran ruangan lebih kecil dan sama dengan 6."
      ]
    },
    {
      "cell_type": "code",
      "metadata": {
        "id": "euRiRNupsrLK",
        "colab": {
          "base_uri": "https://localhost:8080/"
        },
        "outputId": "f15047cc-b623-4f66-d1f0-d9dee6e94077"
      },
      "source": [
        "ruangan = 'Kamar'\n",
        "size = 20\n",
        "\n",
        "if ruangan == 'Kamar' and size > 12:\n",
        "    print('Besar')\n",
        "elif ruangan == 'Kamar' and size > 6:\n",
        "    print('Sedang')\n",
        "else:\n",
        "    print('Kecil')"
      ],
      "execution_count": null,
      "outputs": [
        {
          "output_type": "stream",
          "text": [
            "Besar\n"
          ],
          "name": "stdout"
        }
      ]
    },
    {
      "cell_type": "markdown",
      "metadata": {
        "id": "IcoJXJT1srLW"
      },
      "source": [
        "<h2>Soal 4: Comparison Operator dengan fungsi</h2>\n",
        "\n",
        "Buatlah sebuah fungsi yang menerima satu argument bertipe data numeric dan menghasilkan sebuah return sebagai berikut :\n",
        "- menghasilkan return 'Aneh' jika nilai dari argument tersebut adalah bilangan ganjil\n",
        "- menghasilkan return 'Tidak Aneh' jika nilai dari argument tersebut adalah bilangan genap dan diantara nilai 2 sampai 5 (2 dan 5 termasuk)\n",
        "- menghasilkan return 'Aneh' jika nilai dari argument tersebut adalah bilangan genap dan diantara nilai 6 sampai 20 (6 dan 20 termasuk)\n",
        "- menghasilkan return 'Tidak Aneh' jika nilai dari argument tersebut adalah bilangan genap dan lebih besari dari 20"
      ]
    },
    {
      "cell_type": "code",
      "metadata": {
        "id": "g8F_qfEKsrLZ",
        "colab": {
          "base_uri": "https://localhost:8080/",
          "height": 53
        },
        "outputId": "55633cd7-1f85-4c7b-ee9c-2f1817e53999"
      },
      "source": [
        "angka = int(input(\"Silakan isikan sebuah angka integer: \"))\n",
        " \n",
        " \n",
        "def sifat_angka(arg):\n",
        "    if arg % 2 != 0:\n",
        "        return \"Aneh\"\n",
        "    else:\n",
        "        if arg >= 2 and arg <= 5:\n",
        "            return \"Tidak Aneh\"\n",
        "        elif arg >= 6 and arg <= 20:\n",
        "            return \"Aneh\"\n",
        "        else:\n",
        "            return \"Tidak Aneh\"\n",
        " \n",
        " \n",
        "sifat_angka(angka)"
      ],
      "execution_count": null,
      "outputs": [
        {
          "output_type": "stream",
          "text": [
            "Silakan isikan sebuah angka integer: 5\n"
          ],
          "name": "stdout"
        },
        {
          "output_type": "execute_result",
          "data": {
            "application/vnd.google.colaboratory.intrinsic+json": {
              "type": "string"
            },
            "text/plain": [
              "'Aneh'"
            ]
          },
          "metadata": {
            "tags": []
          },
          "execution_count": 1
        }
      ]
    },
    {
      "cell_type": "markdown",
      "metadata": {
        "id": "gf0D64xOsrLl"
      },
      "source": [
        "<h2>Soal 5: While Loop dan For Loop</h2>\n",
        "\n",
        "- Apa perbedaan while loop dan for loop?\n",
        "- Berikan contoh sederhana cara menggunakan while loop dan for loop"
      ]
    },
    {
      "cell_type": "markdown",
      "metadata": {
        "id": "29u1kTnQ63X1"
      },
      "source": [
        "***Jawaban Text***\r\n",
        "\r\n",
        "For loop digunakan untuk melakukan perulangan yang sudah pasti jumlah iterasinya. Baik itu perulangan sebanyak n kali, ataupun perulangan terhadap isi sebuah list.\r\n",
        "\r\n",
        "sedangkan while loop, digunakan untuk loop yang tidak diketahui berapa kali jumlah iterasinya, akan tetapi kondisi dimana loop tersebut berhenti diketahui."
      ]
    },
    {
      "cell_type": "code",
      "metadata": {
        "id": "l7KIgpjHsrLo",
        "colab": {
          "base_uri": "https://localhost:8080/"
        },
        "outputId": "cd1f236b-b5f2-44e4-87c2-d221a22d77bf"
      },
      "source": [
        "# Contoh For Loop\r\n",
        "print(\"Contoh For Loop\")\r\n",
        "kelas_a = ['mawar', 'rosa', 'melati', 'jasmine']\r\n",
        "\r\n",
        "for siswa in kelas_a:\r\n",
        "    print(siswa)\r\n",
        "\r\n",
        "\r\n",
        "# Contoh While Loop\r\n",
        "print(\"\\nContoh While Loop\")\r\n",
        "angka = 0\r\n",
        "\r\n",
        "while angka <= 10:\r\n",
        "    angka += 1\r\n",
        "    print(\"Ini adalah angka: \"+ str(angka))"
      ],
      "execution_count": null,
      "outputs": [
        {
          "output_type": "stream",
          "text": [
            "Contoh For Loop\n",
            "mawar\n",
            "rosa\n",
            "melati\n",
            "jasmine\n",
            "\n",
            "Contoh While Loop\n",
            "Ini adalah angka: 1\n",
            "Ini adalah angka: 2\n",
            "Ini adalah angka: 3\n",
            "Ini adalah angka: 4\n",
            "Ini adalah angka: 5\n",
            "Ini adalah angka: 6\n",
            "Ini adalah angka: 7\n",
            "Ini adalah angka: 8\n",
            "Ini adalah angka: 9\n",
            "Ini adalah angka: 10\n",
            "Ini adalah angka: 11\n"
          ],
          "name": "stdout"
        }
      ]
    },
    {
      "cell_type": "markdown",
      "metadata": {
        "id": "fZQpBGCgsrLz"
      },
      "source": [
        "<h2>Soal 6: While Loop</h2>\n",
        "    \n",
        "Buatlah sebuah code while loop sebagai berikut :\n",
        "- Buatlah suatu fungsi yang merima satu input nilai numeric\n",
        "- Dalam fungsi, Buat sebuah while-loop dengan melakukan comparasi terhadap inputan tersebut, dimana looping/iterasi terus berjalan apabila nilai inputan tidak sama dengan 0\n",
        "- Dalam setiap iterasi update nilai variable inputan itu, jika input lebih dari 0, maka kurangi variabel tersebut sebesar 1, selain itu tambahkan 1\n",
        "- print nilai variable input dalam setiap awal iterasi"
      ]
    },
    {
      "cell_type": "code",
      "metadata": {
        "id": "yOiqjrU2srL1",
        "colab": {
          "base_uri": "https://localhost:8080/"
        },
        "outputId": "25c77a41-35c5-4503-cdbd-91d9f684b1f2"
      },
      "source": [
        "a = 10\n",
        "\n",
        "def fungsi_while(angka):\n",
        "    while angka != 0:\n",
        "        print(angka)\n",
        "        if angka > 0:\n",
        "            angka -= 1\n",
        "        else:\n",
        "            angka += 1\n",
        "\n",
        "fungsi_while(a)"
      ],
      "execution_count": null,
      "outputs": [
        {
          "output_type": "stream",
          "text": [
            "10\n",
            "9\n",
            "8\n",
            "7\n",
            "6\n",
            "5\n",
            "4\n",
            "3\n",
            "2\n",
            "1\n"
          ],
          "name": "stdout"
        }
      ]
    },
    {
      "cell_type": "markdown",
      "metadata": {
        "id": "lKzngRrlsrMD"
      },
      "source": [
        "Expected Output:\n",
        "\n",
        "10\n",
        "\n",
        "9\n",
        "\n",
        "8\n",
        "\n",
        "7\n",
        "\n",
        "6\n",
        "\n",
        "5\n",
        "\n",
        "4\n",
        "\n",
        "3\n",
        "\n",
        "2\n",
        "\n",
        "1"
      ]
    },
    {
      "cell_type": "markdown",
      "metadata": {
        "id": "IWg3Z_zZsrMG"
      },
      "source": [
        "<h2>Soal 7: For Loop</h2>\n",
        "    \n",
        "Lengkapi kode untuk menghasilkan suatu output yang di harapkan:\n",
        "\n",
        "- Buatlah sebuah loop dengan mengiterasi sebuah objek list kemudian di kalikan dengan index dari list tersebut dan print hasilnya"
      ]
    },
    {
      "cell_type": "code",
      "metadata": {
        "id": "_Jl5i7WKsrMI",
        "colab": {
          "base_uri": "https://localhost:8080/"
        },
        "outputId": "30d4d377-9c9b-48fe-9af3-8e197e4bf1c3"
      },
      "source": [
        "obj_list= [1, 16, 11, 10, 5]\n",
        "\n",
        "# lengkapi code di bawah\n",
        "for index, obj in enumerate(obj_list):\n",
        "    print(index * obj)\n"
      ],
      "execution_count": null,
      "outputs": [
        {
          "output_type": "stream",
          "text": [
            "0\n",
            "16\n",
            "22\n",
            "30\n",
            "20\n"
          ],
          "name": "stdout"
        }
      ]
    },
    {
      "cell_type": "markdown",
      "metadata": {
        "id": "OGawROjnsrMU"
      },
      "source": [
        "Expected Output:\n",
        "\n",
        "0\n",
        "\n",
        "16\n",
        "\n",
        "22\n",
        "\n",
        "30\n",
        "\n",
        "20\n"
      ]
    }
  ]
}