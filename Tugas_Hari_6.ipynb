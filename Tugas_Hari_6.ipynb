{
  "nbformat": 4,
  "nbformat_minor": 0,
  "metadata": {
    "kernelspec": {
      "display_name": "Python 3",
      "language": "python",
      "name": "python3"
    },
    "language_info": {
      "codemirror_mode": {
        "name": "ipython",
        "version": 3
      },
      "file_extension": ".py",
      "mimetype": "text/x-python",
      "name": "python",
      "nbconvert_exporter": "python",
      "pygments_lexer": "ipython3",
      "version": "3.7.7"
    },
    "colab": {
      "name": "Tugas Hari 6_rarizmalia@gmail.com.ipynb",
      "provenance": [],
      "include_colab_link": true
    }
  },
  "cells": [
    {
      "cell_type": "markdown",
      "metadata": {
        "id": "view-in-github",
        "colab_type": "text"
      },
      "source": [
        "<a href=\"https://colab.research.google.com/github/despygurl/sanbercode_python/blob/main/Tugas_Hari_6.ipynb\" target=\"_parent\"><img src=\"https://colab.research.google.com/assets/colab-badge.svg\" alt=\"Open In Colab\"/></a>"
      ]
    },
    {
      "cell_type": "markdown",
      "metadata": {
        "id": "s6LccGLI5deK"
      },
      "source": [
        "<h2>Soal 1: Membuat Objek DataFrames</h2>\n",
        "\n",
        "- Buatlah objek dataframes dari objek dictionary, Bebas!"
      ]
    },
    {
      "cell_type": "code",
      "metadata": {
        "id": "V2jNr8n-5deM",
        "colab": {
          "base_uri": "https://localhost:8080/"
        },
        "outputId": "4e2860a5-305b-432d-95ac-afdbc7a7eb83"
      },
      "source": [
        "# Membuat dataframes dari dictionary\n",
        "import pandas as pd\n",
        "\n",
        "piket = {\n",
        "    'Hari':['Senin','Selasa','Rabu','Kamis','Jumat'],\n",
        "    'Piket':['Andi','Ani','Rina','Parjo','Fani']\n",
        "    }\n",
        "\n",
        "piket_df = pd.DataFrame(piket)\n",
        "piket_df.index += 1\n",
        "\n",
        "print(piket_df)"
      ],
      "execution_count": null,
      "outputs": [
        {
          "output_type": "stream",
          "text": [
            "     Hari  Piket\n",
            "1   Senin   Andi\n",
            "2  Selasa    Ani\n",
            "3    Rabu   Rina\n",
            "4   Kamis  Parjo\n",
            "5   Jumat   Fani\n"
          ],
          "name": "stdout"
        }
      ]
    },
    {
      "cell_type": "markdown",
      "metadata": {
        "id": "KWEFNf9B5deX"
      },
      "source": [
        "<h2>Soal 2: Membaca data dari file</h2>\n",
        "\n",
        "Download file bernama [diamonds.csv](https://drive.google.com/uc?export=download&id=1qQiM9utQUThTPq8jk8stPMh_y2zfqYOd), kemudian baca data tersebut dan assign ke dalam suatu variabel kemudian print."
      ]
    },
    {
      "cell_type": "code",
      "metadata": {
        "id": "Jy2KtDNs5deZ",
        "colab": {
          "base_uri": "https://localhost:8080/"
        },
        "outputId": "5976ad99-644b-4dd5-b605-e73eb4f18fe4"
      },
      "source": [
        "# Membaca data dan memasukannya kedalam suatu variabel\n",
        "import pandas as pd\n",
        "\n",
        "df = pd.read_csv('/content/drive/MyDrive/file sanbercode/diamonds-1.csv')\n",
        "print(df)"
      ],
      "execution_count": null,
      "outputs": [
        {
          "output_type": "stream",
          "text": [
            "       Unnamed: 0  carat        cut color  ... price     x     y     z\n",
            "0               1   0.23      Ideal     E  ...   326  3.95  3.98  2.43\n",
            "1               2   0.21    Premium     E  ...   326  3.89  3.84  2.31\n",
            "2               3   0.23       Good     E  ...   327  4.05  4.07  2.31\n",
            "3               4   0.29    Premium     I  ...   334  4.20  4.23  2.63\n",
            "4               5   0.31       Good     J  ...   335  4.34  4.35  2.75\n",
            "...           ...    ...        ...   ...  ...   ...   ...   ...   ...\n",
            "53935       53936   0.72      Ideal     D  ...  2757  5.75  5.76  3.50\n",
            "53936       53937   0.72       Good     D  ...  2757  5.69  5.75  3.61\n",
            "53937       53938   0.70  Very Good     D  ...  2757  5.66  5.68  3.56\n",
            "53938       53939   0.86    Premium     H  ...  2757  6.15  6.12  3.74\n",
            "53939       53940   0.75      Ideal     D  ...  2757  5.83  5.87  3.64\n",
            "\n",
            "[53940 rows x 11 columns]\n"
          ],
          "name": "stdout"
        }
      ]
    },
    {
      "cell_type": "markdown",
      "metadata": {
        "id": "1o9m_N295del"
      },
      "source": [
        "Expected Result:\n",
        "\n",
        "![alt text](https://drive.google.com/uc?id=1BvgM5mJEVfj0fllrjkBfQwn0QIFkry_t)"
      ]
    },
    {
      "cell_type": "markdown",
      "metadata": {
        "id": "LtLWF_Ot5deo"
      },
      "source": [
        "<h2>Soal 3: DataFrame vs Series</h2>\n",
        "\n",
        "- Apa perbedaan Series dengan list dan dictionary\n",
        "- Apa perbedaan dataframe dan series\n",
        "- Buatlah suatu data series"
      ]
    },
    {
      "cell_type": "markdown",
      "metadata": {
        "id": "6F2EDcPp5der"
      },
      "source": [
        "Jawab: \r\n",
        "\r\n",
        "Perbedaan series dan dictionary:\r\n",
        "1. Series memiliki key duplikat\r\n",
        "2. Series memiliki kemampuan untuk slicing data, tidak seperti dictionary\r\n",
        "\r\n",
        "Perbedaan series dan list:\r\n",
        "1. Pada saat mencetak series, data/value akan ditampilkan secara vertikal beserta indexnya\r\n",
        "2. Series indexnya tidak harus bertipe integer\r\n",
        "\r\n",
        "Perbedaan Series dan Dataframe:\r\n",
        "\r\n",
        "1. Series tidak dapat mempunyai kolom ganda, berbeda halnya dengan dataframe.\r\n",
        "2. Setiap kolom pada Data Frame merupakan objek dari Series, dan baris terdiri dari elemen yang ada pada Series."
      ]
    },
    {
      "cell_type": "code",
      "metadata": {
        "id": "RBPrIKlZ5dev",
        "colab": {
          "base_uri": "https://localhost:8080/"
        },
        "outputId": "1ad314ef-b115-4e6d-daae-5b5c24d7b242"
      },
      "source": [
        "# Contoh data series\n",
        "import pandas as pd\n",
        "data = pd.Series(['apel','jeruk','mangga'])\n",
        "print(data)"
      ],
      "execution_count": null,
      "outputs": [
        {
          "output_type": "stream",
          "text": [
            "0      apel\n",
            "1     jeruk\n",
            "2    mangga\n",
            "dtype: object\n"
          ],
          "name": "stdout"
        }
      ]
    },
    {
      "cell_type": "markdown",
      "metadata": {
        "id": "JNuHgN945de8"
      },
      "source": [
        "<h2>Soal 4: Pemeriksaan Data Sederhana</h2>\n",
        "\n",
        "Di soal no 2 kamu telah membaca data tentang diamonds. pada soal ini cobalah suatu metode dari pandas untuk mengetahui beberapa data pertama dan beberapa data terakhir. kemudian sebutkan nilai dari:\n",
        "- baris pertama dari column price\n",
        "- baris terakhir dari column color\n",
        "\n",
        "tunjukan cara kalian menemukan nilai tersebut di block di bawah ini."
      ]
    },
    {
      "cell_type": "code",
      "metadata": {
        "id": "MRvNarxL5de-",
        "colab": {
          "base_uri": "https://localhost:8080/"
        },
        "outputId": "da02d140-544a-4738-ba15-33f29966d486"
      },
      "source": [
        "# Membaca baris pertama dari column price\r\n",
        "print(df['price'].head(1))\r\n",
        "# Membaca baris terakhir dari column color\r\n",
        "print(df['color'].tail(1))"
      ],
      "execution_count": null,
      "outputs": [
        {
          "output_type": "stream",
          "text": [
            "0    326\n",
            "Name: price, dtype: int64\n",
            "53939    D\n",
            "Name: color, dtype: object\n"
          ],
          "name": "stdout"
        }
      ]
    },
    {
      "cell_type": "code",
      "metadata": {
        "colab": {
          "base_uri": "https://localhost:8080/"
        },
        "id": "TPe5CM4HftPG",
        "outputId": "a0999c25-6b3a-481c-e900-741bb2a8088c"
      },
      "source": [
        "from google.colab import drive\n",
        "drive.mount('/content/drive')"
      ],
      "execution_count": null,
      "outputs": [
        {
          "output_type": "stream",
          "text": [
            "Mounted at /content/drive\n"
          ],
          "name": "stdout"
        }
      ]
    },
    {
      "cell_type": "markdown",
      "metadata": {
        "id": "q-u9QIjJ5dfK"
      },
      "source": [
        "<h2>Soal 5: Deskriptif Statistik</h2>\n",
        "\n",
        "Jelaskan apa itu deskriptis statistik!"
      ]
    },
    {
      "cell_type": "markdown",
      "metadata": {
        "id": "iKTeB5Gd5dfM"
      },
      "source": [
        "Jawab: \r\n",
        "\r\n",
        "Statistik deskriptif merupakan proses analisis statistik yang fokus kepada manajemen, penyajian, dan klasifikasi data. Dengan proses ini, data yang disajikan akan menjadi lebih menarik lebih mudah dipahami, dan mampu memberikan makna lebih bagi pengguna data."
      ]
    },
    {
      "cell_type": "markdown",
      "metadata": {
        "id": "5SKD0rNu5dfP"
      },
      "source": [
        "<h2>Soal 6: Practice Deskriptif Statistik</h2>\n",
        "\n",
        "- Gunakan suatu metode dari pandas untuk mengetahui deskriptif statistik dari suatu data\n",
        "- Berapa nilai rata-rata dari column price\n",
        "- Berapa nilai standar deviasi dari column depth\n",
        "- Berapa nilai maximum dari column carat"
      ]
    },
    {
      "cell_type": "code",
      "metadata": {
        "id": "giNtJG9Y5dfS",
        "colab": {
          "base_uri": "https://localhost:8080/"
        },
        "outputId": "f1c9e92d-a41b-4b92-be6e-58da0afff78b"
      },
      "source": [
        "# Mencari min, max & mean dari column depth\r\n",
        "import pandas as pd\r\n",
        "df = pd.read_csv('/content/drive/MyDrive/file sanbercode/diamonds-1.csv')\r\n",
        "print(df.describe())\r\n",
        "nilai_min = df['depth'].min()\r\n",
        "nilai_max = df['depth'].max()\r\n",
        "mean = round(df['depth'].mean(),2)\r\n",
        "\r\n",
        "print(\r\n",
        "    \"\\nMencari nilai minimal, maksimal dan rata-rata pada kolom depth\\n\"\r\n",
        "    \"Nilai minimal = {}\\n\".format(nilai_min)+\r\n",
        "    \"Nilai maksimal = {}\\n\".format(nilai_max)+\r\n",
        "    \"Nilai rata-rata = {}\\n\".format(mean)\r\n",
        "    )\r\n",
        "\r\n",
        "# Mencari nilai rata-rata dari column price\r\n",
        "min_price = round(df['price'].mean(),2)\r\n",
        "print(\r\n",
        "    \"Mencari nilai rata-rata dari column price\\n\"\r\n",
        "    \"Nilai rata-rata price = {}\\n\".format(min_price)\r\n",
        ")\r\n",
        "\r\n",
        "# Mencari nilai standar deviasi dari kolom depth\r\n",
        "std_depth = round(df['depth'].std(),2)\r\n",
        "print(\r\n",
        "    \"Mencari nilai standar deviasi dari kolom depth\\n\"\r\n",
        "    \"Nilai std depth = {}\\n\".format(std_depth)\r\n",
        ")\r\n",
        "\r\n",
        "# Mencari nilai maksimum dari column carat\r\n",
        "maks_car = df['carat'].max()\r\n",
        "print(\r\n",
        "    \"Mencari nilai maksimum dari column carat\\n\"\r\n",
        "    \"Nilai maks carat = {}\".format(maks_car)\r\n",
        ")"
      ],
      "execution_count": null,
      "outputs": [
        {
          "output_type": "stream",
          "text": [
            "         Unnamed: 0         carat  ...             y             z\n",
            "count  53940.000000  53940.000000  ...  53940.000000  53940.000000\n",
            "mean   26970.500000      0.797940  ...      5.734526      3.538734\n",
            "std    15571.281097      0.474011  ...      1.142135      0.705699\n",
            "min        1.000000      0.200000  ...      0.000000      0.000000\n",
            "25%    13485.750000      0.400000  ...      4.720000      2.910000\n",
            "50%    26970.500000      0.700000  ...      5.710000      3.530000\n",
            "75%    40455.250000      1.040000  ...      6.540000      4.040000\n",
            "max    53940.000000      5.010000  ...     58.900000     31.800000\n",
            "\n",
            "[8 rows x 8 columns]\n",
            "\n",
            "Mencari nilai minimal, maksimal dan rata-rata pada kolom depth\n",
            "Nilai minimal = 43.0\n",
            "Nilai maksimal = 79.0\n",
            "Nilai rata-rata = 61.75\n",
            "\n",
            "Mencari nilai rata-rata dari column price\n",
            "Nilai rata-rata price = 3932.8\n",
            "\n",
            "Mencari nilai standar deviasi dari kolom depth\n",
            "Nilai std depth = 1.43\n",
            "\n",
            "Mencari nilai maksimum dari column carat\n",
            "Nilai maks carat = 5.01\n"
          ],
          "name": "stdout"
        }
      ]
    },
    {
      "cell_type": "markdown",
      "metadata": {
        "id": "M6miZVtG5dfd"
      },
      "source": [
        "Jawab:"
      ]
    }
  ]
}